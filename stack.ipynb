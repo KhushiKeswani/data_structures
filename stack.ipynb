{
 "cells": [
  {
   "cell_type": "code",
   "execution_count": 1,
   "id": "bca3b16a",
   "metadata": {},
   "outputs": [],
   "source": [
    "class Node:\n",
    "    def __init__(self,value):\n",
    "        self.data = value\n",
    "        self.next = None"
   ]
  },
  {
   "cell_type": "code",
   "execution_count": 38,
   "id": "7d1257f0",
   "metadata": {},
   "outputs": [],
   "source": [
    "class stack:\n",
    "    def __init__(self):\n",
    "        self.top = None\n",
    "    def isempty(self):\n",
    "        return self.top == None\n",
    "    def push(self,value):\n",
    "        new_node = Node(value)\n",
    "        new_node.next = self.top\n",
    "        self.top = new_node\n",
    "    def pop(self):\n",
    "        if (self.isempty()):\n",
    "            return 'stack empty'\n",
    "        else:\n",
    "            temp = self.top\n",
    "            self.top = self.top.next\n",
    "            return temp.data\n",
    "    def peek(self):\n",
    "        if (self.isempty()):\n",
    "            return 'stack empty'\n",
    "        else:\n",
    "            return self.top.data\n",
    "    def traverse(self):\n",
    "        temp = self.top\n",
    "        while temp!= None:\n",
    "            print(temp.data)\n",
    "            temp = temp.next"
   ]
  },
  {
   "cell_type": "code",
   "execution_count": 39,
   "id": "ee9a8d44",
   "metadata": {},
   "outputs": [],
   "source": [
    "s = stack()"
   ]
  },
  {
   "cell_type": "code",
   "execution_count": 23,
   "id": "bb225d05",
   "metadata": {},
   "outputs": [
    {
     "data": {
      "text/plain": [
       "True"
      ]
     },
     "execution_count": 23,
     "metadata": {},
     "output_type": "execute_result"
    }
   ],
   "source": [
    "s.isempty()"
   ]
  },
  {
   "cell_type": "code",
   "execution_count": 32,
   "id": "67e00560",
   "metadata": {},
   "outputs": [],
   "source": [
    "s.push(2)\n",
    "s.push(2)"
   ]
  },
  {
   "cell_type": "code",
   "execution_count": 33,
   "id": "994cb07d",
   "metadata": {},
   "outputs": [
    {
     "data": {
      "text/plain": [
       "2"
      ]
     },
     "execution_count": 33,
     "metadata": {},
     "output_type": "execute_result"
    }
   ],
   "source": [
    "s.pop()"
   ]
  },
  {
   "cell_type": "code",
   "execution_count": 25,
   "id": "4e892265",
   "metadata": {},
   "outputs": [
    {
     "name": "stdout",
     "output_type": "stream",
     "text": [
      "2\n",
      "2\n"
     ]
    }
   ],
   "source": [
    "s.traverse()"
   ]
  },
  {
   "cell_type": "code",
   "execution_count": 43,
   "id": "f4a1895b",
   "metadata": {},
   "outputs": [],
   "source": [
    "def reverse_string(text):\n",
    "      \n",
    "      s = stack()\n",
    "      result = ''\n",
    "      for i in text:\n",
    "        s.push(i)\n",
    "      while not s.isempty():\n",
    "        \n",
    "        result+=s.pop()\n",
    "      return result"
   ]
  },
  {
   "cell_type": "code",
   "execution_count": 44,
   "id": "d1874235",
   "metadata": {},
   "outputs": [
    {
     "data": {
      "text/plain": [
       "'!!olleh'"
      ]
     },
     "execution_count": 44,
     "metadata": {},
     "output_type": "execute_result"
    }
   ],
   "source": [
    "reverse_string('hello!!')"
   ]
  },
  {
   "cell_type": "code",
   "execution_count": 59,
   "id": "9a63e049",
   "metadata": {},
   "outputs": [],
   "source": [
    "def text_editor(text,pattern):\n",
    "    u = stack()\n",
    "    r = stack()\n",
    "    for i in text:\n",
    "        u.push(i)\n",
    "    for i in pattern:\n",
    "        if i == 'u':\n",
    "            data = u.pop()\n",
    "            r.push(data)\n",
    "        else:\n",
    "            data = r.pop()\n",
    "            u.push(data)\n",
    "    res = ''\n",
    "    while not u.isempty():\n",
    "        res = u.pop()+res\n",
    "    print(res)"
   ]
  },
  {
   "cell_type": "code",
   "execution_count": 64,
   "id": "574b22e2",
   "metadata": {},
   "outputs": [
    {
     "name": "stdout",
     "output_type": "stream",
     "text": [
      "hel\n"
     ]
    }
   ],
   "source": [
    "text_editor('hello','uurruuuurr')"
   ]
  }
 ],
 "metadata": {
  "kernelspec": {
   "display_name": "Python 3",
   "language": "python",
   "name": "python3"
  },
  "language_info": {
   "codemirror_mode": {
    "name": "ipython",
    "version": 3
   },
   "file_extension": ".py",
   "mimetype": "text/x-python",
   "name": "python",
   "nbconvert_exporter": "python",
   "pygments_lexer": "ipython3",
   "version": "3.12.5"
  }
 },
 "nbformat": 4,
 "nbformat_minor": 5
}
