{
 "cells": [
  {
   "cell_type": "code",
   "execution_count": 6,
   "id": "f9cd04ed",
   "metadata": {},
   "outputs": [],
   "source": [
    "import ctypes"
   ]
  },
  {
   "cell_type": "code",
   "execution_count": null,
   "id": "4f916149",
   "metadata": {},
   "outputs": [],
   "source": [
    "class MeraList:\n",
    "    def __init__(self):\n",
    "        \"\"\"Initialize the MeraList with optional data.\"\"\"\n",
    "        self.size = 1\n",
    "        self.n = 0\n",
    "        self.A = self.__make_array(self.size)\n",
    "    def __make_array(self,capacity):\n",
    "        #this makes c types array\n",
    "        return (capacity*ctypes.py_object)()\n",
    "    #returns length of array\n",
    "    def __len__(self):\n",
    "        return self.n\n",
    "    #works same as append in python arrays\n",
    "    def append(self,item):\n",
    "        if self.size == self.n:\n",
    "            self.__resize(self.size*2)\n",
    "        self.A[self.n] = item\n",
    "        self.n = self.n+1\n",
    "    #Adds all elements from another list to the current list \n",
    "    def extend(self, iterable):\n",
    "        try:\n",
    "            for item in iterable:\n",
    "                self.append(item)\n",
    "        except TypeError:\n",
    "            return \"TypeError: extend() arg must be iterable\"\n",
    "    #works as dynamic array when needed\n",
    "    def __resize(self,new_capacity):\n",
    "        B= self.__make_array(new_capacity)\n",
    "        self.size = new_capacity\n",
    "        for i in range(self.n):\n",
    "            B[i] = self.A[i]\n",
    "        self.A = B\n",
    "    #used to print array\n",
    "    def __str__(self):\n",
    "        result = ''\n",
    "        for i in range(self.n):\n",
    "            result = result + str(self.A[i]) + \",\"\n",
    "        return '[' + result[:-1] + ']'\n",
    "    #used for indexing of array, both for positive and negative indexes\n",
    "    def __getitem__(self,index):\n",
    "        if 0>index:\n",
    "                index =  self.n +index\n",
    "        if 0<=index<self.n:\n",
    "            return self.A[index]\n",
    "        else:\n",
    "            return 'IndexError'\n",
    "    #removes last element\n",
    "    def pop(self):\n",
    "        if self.n ==0:\n",
    "            return 'empty list'\n",
    "        print(self.A[self.n-1])\n",
    "        self.n = self.n -1\n",
    "    #clears entire list\n",
    "    def clear(self):\n",
    "        self.size = 1\n",
    "        self.n=0\n",
    "    #it returns index of value we give as an input\n",
    "    def find(self,item):\n",
    "        for i in range(self.n):\n",
    "            if self.A[i] == item:\n",
    "                return i\n",
    "        return 'valueerror'\n",
    "    #inserts in list\n",
    "    def insert(self,item,position):\n",
    "        if self.n == self.size:\n",
    "            self.__resize(self.size*2)\n",
    "        for i in range(self.n,position,-1):\n",
    "            self.A[i] = self.A[i-1]\n",
    "        self.A[position] = item\n",
    "        self.n = self.n +1\n",
    "    #delete by taking index\n",
    "    def delete(self,index):\n",
    "        if 0 <= index < self.n:\n",
    "            for i in range(index,self.n-1):\n",
    "                #in range n-1 because last element for doing A[n-2] = A[n-1] next will be out of range\n",
    "                self.A[i] = self.A[i+1]\n",
    "            self.n = self.n -1\n",
    "    #delete by taking value\n",
    "    def remove(self,item):\n",
    "        pos = self.find(item)\n",
    "        if type(pos) == int:\n",
    "            self.delete(pos)\n",
    "        else:\n",
    "            return pos\n",
    "    #performing sum of array\n",
    "    def sum(self):\n",
    "        total = 0\n",
    "        for i in range(self.n):\n",
    "            if type(self.A[i]) == int:\n",
    "                total = total + self.A[i]\n",
    "            else:\n",
    "                return 'TypeError'\n",
    "        return total\n",
    "    #min function\n",
    "    def min(self):\n",
    "        smallest = float('inf')\n",
    "        for i in range(self.n):\n",
    "            if type(self.A[i]) == int:\n",
    "                if self.A[i]<smallest:\n",
    "                    smallest = self.A[i]\n",
    "            else:\n",
    "                return 'TypeError'\n",
    "        return smallest\n",
    "    def max(self):\n",
    "        largest = float('-inf')\n",
    "        for i in range(self.n):\n",
    "            if type(self.A[i]) == int:\n",
    "                if self.A[i]>largest:\n",
    "                    largest = self.A[i]\n",
    "            else:\n",
    "                return 'TypeError'\n",
    "        return largest\n",
    "    def sort(self):\n",
    "        for i in range(self.n-1):\n",
    "            for j in range(self.n-1-i):\n",
    "                if type(self.A[j]) == int:\n",
    "                    if self.A[j]> self.A[j+1]:\n",
    "                        self.A[j],self.A[j+1] = self.A[j+1],self.A[j]\n",
    "                else:\n",
    "                    return 'TypeError'\n",
    "        return self.A\n"
   ]
  },
  {
   "cell_type": "code",
   "execution_count": 324,
   "id": "0ce49e42",
   "metadata": {},
   "outputs": [],
   "source": [
    "L = MeraList()"
   ]
  },
  {
   "cell_type": "code",
   "execution_count": 326,
   "id": "0f3f8008",
   "metadata": {},
   "outputs": [
    {
     "data": {
      "text/plain": [
       "0"
      ]
     },
     "execution_count": 326,
     "metadata": {},
     "output_type": "execute_result"
    }
   ],
   "source": [
    "len(L)"
   ]
  },
  {
   "cell_type": "code",
   "execution_count": 327,
   "id": "bd58f63b",
   "metadata": {},
   "outputs": [],
   "source": [
    "L.append(1)\n",
    "L.append(3)"
   ]
  },
  {
   "cell_type": "code",
   "execution_count": 328,
   "id": "05567eea",
   "metadata": {},
   "outputs": [
    {
     "data": {
      "text/plain": [
       "2"
      ]
     },
     "execution_count": 328,
     "metadata": {},
     "output_type": "execute_result"
    }
   ],
   "source": [
    "len(L)"
   ]
  },
  {
   "cell_type": "code",
   "execution_count": 329,
   "id": "1414cbff",
   "metadata": {},
   "outputs": [],
   "source": [
    "L.extend([5,7,9])"
   ]
  },
  {
   "cell_type": "code",
   "execution_count": 330,
   "id": "2caf31f5",
   "metadata": {},
   "outputs": [
    {
     "data": {
      "text/plain": [
       "5"
      ]
     },
     "execution_count": 330,
     "metadata": {},
     "output_type": "execute_result"
    }
   ],
   "source": [
    "len(L)"
   ]
  },
  {
   "cell_type": "code",
   "execution_count": 331,
   "id": "7f897419",
   "metadata": {},
   "outputs": [
    {
     "name": "stdout",
     "output_type": "stream",
     "text": [
      "[1,3,5,7,9]\n"
     ]
    }
   ],
   "source": [
    "print(L)"
   ]
  },
  {
   "cell_type": "code",
   "execution_count": 332,
   "id": "d885c5e7",
   "metadata": {},
   "outputs": [
    {
     "data": {
      "text/plain": [
       "1"
      ]
     },
     "execution_count": 332,
     "metadata": {},
     "output_type": "execute_result"
    }
   ],
   "source": [
    "L[0]"
   ]
  },
  {
   "cell_type": "code",
   "execution_count": 333,
   "id": "d2d10b7e",
   "metadata": {},
   "outputs": [
    {
     "data": {
      "text/plain": [
       "5"
      ]
     },
     "execution_count": 333,
     "metadata": {},
     "output_type": "execute_result"
    }
   ],
   "source": [
    "L[-3]"
   ]
  },
  {
   "cell_type": "code",
   "execution_count": 334,
   "id": "c43da994",
   "metadata": {},
   "outputs": [
    {
     "name": "stdout",
     "output_type": "stream",
     "text": [
      "9\n"
     ]
    }
   ],
   "source": [
    "L.pop()"
   ]
  },
  {
   "cell_type": "code",
   "execution_count": 335,
   "id": "caa038c2",
   "metadata": {},
   "outputs": [
    {
     "name": "stdout",
     "output_type": "stream",
     "text": [
      "[1,3,5,7]\n"
     ]
    }
   ],
   "source": [
    "print(L)"
   ]
  },
  {
   "cell_type": "code",
   "execution_count": 336,
   "id": "e3c31f98",
   "metadata": {},
   "outputs": [],
   "source": [
    "a = MeraList()\n",
    "a.append('hello')\n",
    "a.append('hii')"
   ]
  },
  {
   "cell_type": "code",
   "execution_count": 337,
   "id": "f6e5384a",
   "metadata": {},
   "outputs": [
    {
     "name": "stdout",
     "output_type": "stream",
     "text": [
      "[hello,hii]\n"
     ]
    }
   ],
   "source": [
    "print(a)"
   ]
  },
  {
   "cell_type": "code",
   "execution_count": 338,
   "id": "385390da",
   "metadata": {},
   "outputs": [],
   "source": [
    "a.clear()"
   ]
  },
  {
   "cell_type": "code",
   "execution_count": 339,
   "id": "5a3196b5",
   "metadata": {},
   "outputs": [
    {
     "name": "stdout",
     "output_type": "stream",
     "text": [
      "[]\n"
     ]
    }
   ],
   "source": [
    "print(a)"
   ]
  },
  {
   "cell_type": "code",
   "execution_count": 340,
   "id": "52afab40",
   "metadata": {},
   "outputs": [
    {
     "data": {
      "text/plain": [
       "2"
      ]
     },
     "execution_count": 340,
     "metadata": {},
     "output_type": "execute_result"
    }
   ],
   "source": [
    "L.find(5)"
   ]
  },
  {
   "cell_type": "code",
   "execution_count": 342,
   "id": "bc17ced8",
   "metadata": {},
   "outputs": [
    {
     "name": "stdout",
     "output_type": "stream",
     "text": [
      "[1,3,5,7]\n"
     ]
    }
   ],
   "source": [
    "print(L)"
   ]
  },
  {
   "cell_type": "code",
   "execution_count": 343,
   "id": "c3b74553",
   "metadata": {},
   "outputs": [],
   "source": [
    "L.insert(45,3)"
   ]
  },
  {
   "cell_type": "code",
   "execution_count": 344,
   "id": "6127059b",
   "metadata": {},
   "outputs": [
    {
     "name": "stdout",
     "output_type": "stream",
     "text": [
      "[1,3,5,45,7]\n"
     ]
    }
   ],
   "source": [
    "print(L)"
   ]
  },
  {
   "cell_type": "code",
   "execution_count": 345,
   "id": "c73f3524",
   "metadata": {},
   "outputs": [],
   "source": [
    "L.remove(45)"
   ]
  },
  {
   "cell_type": "code",
   "execution_count": 346,
   "id": "78976927",
   "metadata": {},
   "outputs": [
    {
     "name": "stdout",
     "output_type": "stream",
     "text": [
      "[1,3,5,7]\n"
     ]
    }
   ],
   "source": [
    "print(L)"
   ]
  },
  {
   "cell_type": "code",
   "execution_count": 347,
   "id": "d896521f",
   "metadata": {},
   "outputs": [],
   "source": [
    "L.delete(1)"
   ]
  },
  {
   "cell_type": "code",
   "execution_count": 348,
   "id": "40ad8b6c",
   "metadata": {},
   "outputs": [
    {
     "name": "stdout",
     "output_type": "stream",
     "text": [
      "[1,5,7]\n"
     ]
    }
   ],
   "source": [
    "print(L)"
   ]
  },
  {
   "cell_type": "code",
   "execution_count": 349,
   "id": "7edc50a7",
   "metadata": {},
   "outputs": [
    {
     "data": {
      "text/plain": [
       "1"
      ]
     },
     "execution_count": 349,
     "metadata": {},
     "output_type": "execute_result"
    }
   ],
   "source": [
    "L.min()"
   ]
  },
  {
   "cell_type": "code",
   "execution_count": 350,
   "id": "b764827d",
   "metadata": {},
   "outputs": [
    {
     "data": {
      "text/plain": [
       "7"
      ]
     },
     "execution_count": 350,
     "metadata": {},
     "output_type": "execute_result"
    }
   ],
   "source": [
    "L.max()"
   ]
  },
  {
   "cell_type": "code",
   "execution_count": 352,
   "id": "70821802",
   "metadata": {},
   "outputs": [
    {
     "data": {
      "text/plain": [
       "13"
      ]
     },
     "execution_count": 352,
     "metadata": {},
     "output_type": "execute_result"
    }
   ],
   "source": [
    "L.sum()"
   ]
  },
  {
   "cell_type": "code",
   "execution_count": 353,
   "id": "2e230d0a",
   "metadata": {},
   "outputs": [],
   "source": [
    "b = MeraList()\n",
    "b.append(55)\n",
    "b.append(90)\n",
    "b.append(-1)\n",
    "b.append(100)"
   ]
  },
  {
   "cell_type": "code",
   "execution_count": 354,
   "id": "b0e0102c",
   "metadata": {},
   "outputs": [
    {
     "data": {
      "text/plain": [
       "<__main__.py_object_Array_4 at 0x1e641245550>"
      ]
     },
     "execution_count": 354,
     "metadata": {},
     "output_type": "execute_result"
    }
   ],
   "source": [
    "b.sort()"
   ]
  },
  {
   "cell_type": "code",
   "execution_count": 355,
   "id": "30656eef",
   "metadata": {},
   "outputs": [
    {
     "name": "stdout",
     "output_type": "stream",
     "text": [
      "[-1,55,90,100]\n"
     ]
    }
   ],
   "source": [
    "print(b)"
   ]
  }
 ],
 "metadata": {
  "kernelspec": {
   "display_name": "Python 3",
   "language": "python",
   "name": "python3"
  },
  "language_info": {
   "codemirror_mode": {
    "name": "ipython",
    "version": 3
   },
   "file_extension": ".py",
   "mimetype": "text/x-python",
   "name": "python",
   "nbconvert_exporter": "python",
   "pygments_lexer": "ipython3",
   "version": "3.12.5"
  }
 },
 "nbformat": 4,
 "nbformat_minor": 5
}
